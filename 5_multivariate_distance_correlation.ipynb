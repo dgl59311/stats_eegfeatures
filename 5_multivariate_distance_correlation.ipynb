{
 "cells": [
  {
   "cell_type": "markdown",
   "metadata": {},
   "source": [
    "## 5) Multivariate distance correlations between EEG features\n",
    "\n",
    "- Multivariate distance correlations are calculated between EEG features with all their variables (i.e., electrodes, brain regions, or microstate parameters)\n",
    "\n",
    "Gordillo, da Cruz, Moreno, Garobbio, Herzog"
   ]
  },
  {
   "cell_type": "code",
   "execution_count": null,
   "metadata": {},
   "outputs": [],
   "source": [
    "# dario.gordillolopez@epfl.ch\n",
    "library('energy')\n",
    "library('dplyr')"
   ]
  },
  {
   "cell_type": "code",
   "execution_count": null,
   "metadata": {},
   "outputs": [],
   "source": [
    "# set working directory\n",
    "setwd(getwd())\n",
    "# csv data directory\n",
    "eeg_data_dir = file.path(getwd(), \"data\", \"csv_data\")"
   ]
  },
  {
   "cell_type": "code",
   "execution_count": null,
   "metadata": {},
   "outputs": [],
   "source": [
    "# Find EEG files in .csv \n",
    "temp <- list.files(path=eeg_data_dir, pattern=\"*.csv\") "
   ]
  },
  {
   "cell_type": "code",
   "execution_count": null,
   "metadata": {},
   "outputs": [],
   "source": [
    "# allocate memory\n",
    "\n",
    "# multivariate distance correlations\n",
    "# for young adults\n",
    "pval_dcor_test_y <- matrix(0,length(temp), length(temp))\n",
    "fx_dcor_test_y <- matrix(0,length(temp), length(temp))\n",
    "# for older adults\n",
    "pval_dcor_test_o <- matrix(0,length(temp), length(temp))\n",
    "fx_dcor_test_o <- matrix(0,length(temp), length(temp))"
   ]
  },
  {
   "cell_type": "code",
   "execution_count": null,
   "metadata": {},
   "outputs": [],
   "source": [
    "# feature 1\n",
    "i<-1\n",
    "# feature 2\n",
    "j<-2\n",
    "\n",
    "# load EEG data\n",
    "data_EEG_1 <- read.csv(file.path(eeg_data_dir, temp[i]))\n",
    "# data for young adults\n",
    "y_eeg_1 <- filter(data_EEG_1, Group==1)[, 5:dim(data_EEG_1)[2]]  \n",
    "\n",
    "\n",
    "data_EEG_2 <- read.csv(file.path(eeg_data_dir, temp[j]))\n",
    "# data for young adults\n",
    "y_eeg_2 <- filter(data_EEG_2, Group==1)[, 5:dim(data_EEG_2)[2]] \n",
    "\n",
    "multivar_energy_test_y <- dcorT.test(y_eeg_1, y_eeg_2)\n",
    "multivar_energy_test_y"
   ]
  },
  {
   "cell_type": "code",
   "execution_count": null,
   "metadata": {},
   "outputs": [],
   "source": [
    "for (i in 1:length(temp)){\n",
    "  \n",
    "  message('Processing feature ', i, ' of ', length(temp))\n",
    "    \n",
    "  # load EEG data\n",
    "  data_EEG_1 <- read.csv(file.path(eeg_data_dir, temp[i]))\n",
    "  # data for young adults\n",
    "  y_eeg_1 <- filter(data_EEG_1, Group==1)[, 5:dim(data_EEG_1)[2]]  \n",
    "  # data for older adults\n",
    "  o_eeg_1 <- filter(data_EEG_1, Group==2)[, 5:dim(data_EEG_1)[2]]  \n",
    "\n",
    "  for (j in i:length(temp)){\n",
    "    # load EEG data\n",
    "    data_EEG_2 <- read.csv(file.path(eeg_data_dir, temp[j]))\n",
    "    # data for young adults\n",
    "    y_eeg_2 <- filter(data_EEG_2, Group==1)[, 5:dim(data_EEG_2)[2]] \n",
    "    # data for older adults\n",
    "    o_eeg_2 <- filter(data_EEG_2, Group==2)[, 5:dim(data_EEG_2)[2]] \n",
    "    \n",
    "    # multivariate distance correlation test between EEG features\n",
    "    # for young adults\n",
    "    multivar_ttest_y <- dcorT.test(y_eeg_1, y_eeg_2)\n",
    "    fx_dcor_test_y[i, j] <- multivar_ttest_y$estimate\n",
    "    pval_dcor_test_y[i, j] <- multivar_ttest_y$p.value\n",
    "    \n",
    "    # for older adults\n",
    "    multivar_ttest_o <- dcorT.test(o_eeg_1, o_eeg_2)\n",
    "    fx_dcor_test_o[i, j] <- multivar_ttest_o$estimate\n",
    "    pval_dcor_test_o[i, j] <- multivar_ttest_o$p.value      \n",
    "\n",
    "  }\n",
    "}"
   ]
  },
  {
   "cell_type": "code",
   "execution_count": null,
   "metadata": {},
   "outputs": [],
   "source": [
    "# Results for young adults\n",
    "# write csv with fx magnitude\n",
    "temp_ix <- gsub(\".csv\", \"\", temp)\n",
    "cols_fx <- data.frame()\n",
    "cols_fx <- as.data.frame(fx_dcor_test_y, row.names=temp_ix)\n",
    "colnames(cols_fx) <- temp_ix\n",
    "save_ <- file.path(getwd(),\"results\", \"5_distancecorrelation_results\", \"5_dc_fx_y.csv\")\n",
    "write.csv(cols_fx, save_)\n",
    "\n",
    "# write csv with pvalues\n",
    "cols_pval <- data.frame()\n",
    "cols_pval <- as.data.frame(pval_dcor_test_y, row.names=temp_ix)\n",
    "colnames(cols_pval) <- temp_ix\n",
    "save_ <- file.path(getwd(),\"results\", \"5_distancecorrelation_results\", \"5_dc_pval_y.csv\")\n",
    "write.csv(cols_pval, save_)\n",
    "\n",
    "\n",
    "# Results for older adults\n",
    "# write csv with fx magnitude\n",
    "cols_fx <- data.frame()\n",
    "cols_fx <- as.data.frame(fx_dcor_test_o, row.names=temp_ix)\n",
    "colnames(cols_fx) <- temp_ix\n",
    "save_ <- file.path(getwd(),\"results\", \"5_distancecorrelation_results\", \"5_dc_fx_o.csv\")\n",
    "write.csv(cols_fx, save_)\n",
    "\n",
    "# write csv with pvalues\n",
    "cols_pval <- data.frame()\n",
    "cols_pval <- as.data.frame(pval_dcor_test_o, row.names=temp_ix)\n",
    "colnames(cols_pval) <- temp_ix\n",
    "save_ <- file.path(getwd(),\"results\", \"5_distancecorrelation_results\", \"5_dc_pval_o.csv\")\n",
    "write.csv(cols_pval, save_)\n"
   ]
  }
 ],
 "metadata": {
  "kernelspec": {
   "display_name": "R [conda env:rstats_eeg]",
   "language": "R",
   "name": "conda-env-rstats_eeg-r"
  },
  "language_info": {
   "codemirror_mode": "r",
   "file_extension": ".r",
   "mimetype": "text/x-r-source",
   "name": "R",
   "pygments_lexer": "r",
   "version": "4.0.1"
  }
 },
 "nbformat": 4,
 "nbformat_minor": 4
}
