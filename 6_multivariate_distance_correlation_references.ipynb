{
 "cells": [
  {
   "cell_type": "markdown",
   "id": "33b24851",
   "metadata": {},
   "source": [
    "## 6) Compare EEG references\n",
    "\n",
    "- Some EEG features have been calculated both using an average (or CSD) reference and a zero reference\n",
    "- Here, EEG features are compared between these two reference choices using multivariate distance correlations\n",
    "\n",
    "Gordillo, da Cruz, Moreno, Garobbio, Herzog"
   ]
  },
  {
   "cell_type": "code",
   "execution_count": null,
   "id": "e761e42f",
   "metadata": {},
   "outputs": [],
   "source": [
    "# dario.gordillolopez@epfl.ch\n",
    "library('energy')\n",
    "library('dplyr')"
   ]
  },
  {
   "cell_type": "code",
   "execution_count": null,
   "id": "5dfb3789",
   "metadata": {},
   "outputs": [],
   "source": [
    "# set working directory\n",
    "setwd(getwd())\n",
    "# csv data directory\n",
    "# directory with average and csd referenced EEG features\n",
    "eeg_data_dir = file.path(getwd(), \"data\", \"csv_data\")\n",
    "# directory with zero referenced EEG features\n",
    "z_eeg_data_dir = file.path(getwd(), \"data\", \"csv_data\", \"zero_ref\")"
   ]
  },
  {
   "cell_type": "code",
   "execution_count": null,
   "id": "106fe7cf",
   "metadata": {},
   "outputs": [],
   "source": [
    "# Find EEG files in .csv \n",
    "temp <- list.files(path=z_eeg_data_dir, pattern=\"*.csv\")\n",
    "\n",
    "# allocate memory\n",
    "# multivariate distance correlations\n",
    "# for young adults\n",
    "z_pval_dcor_test_y <- matrix(0, length(temp), length(temp))\n",
    "z_fx_dcor_test_y <- matrix(0, length(temp), length(temp))\n",
    "# for older adults\n",
    "z_pval_dcor_test_o <- matrix(0, length(temp), length(temp))\n",
    "z_fx_dcor_test_o <- matrix(0, length(temp), length(temp))\n"
   ]
  },
  {
   "cell_type": "code",
   "execution_count": null,
   "id": "57c03806",
   "metadata": {},
   "outputs": [],
   "source": [
    "# save pairwise distance correlations between EEG features zero-referenced\n",
    "\n",
    "for (i in 1:length(temp)){\n",
    "  \n",
    "  message('Processing feature ', i, ' of ', length(temp))\n",
    "    \n",
    "  # load EEG data\n",
    "  data_EEG_1 <- read.csv(file.path(z_eeg_data_dir, temp[i]))\n",
    "  # data for young adults\n",
    "  y_eeg_1 <- filter(data_EEG_1, Group==1)[, 5:dim(data_EEG_1)[2]]  \n",
    "  # data for older adults\n",
    "  o_eeg_1 <- filter(data_EEG_1, Group==2)[, 5:dim(data_EEG_1)[2]]  \n",
    "\n",
    "  for (j in i:length(temp)){\n",
    "      \n",
    "    # load EEG data\n",
    "    \n",
    "    if (j == i){   \n",
    "        # diagonal contains distance correlation between avg/csd and zero reference\n",
    "        data_EEG_2 <- read.csv(file.path(eeg_data_dir, paste(substr(temp[j], 1, nchar(temp[j])-9), '.csv', sep=\"\")))    \n",
    "    } else {        \n",
    "        data_EEG_2 <- read.csv(file.path(z_eeg_data_dir, temp[j]))        \n",
    "    }\n",
    "    \n",
    "    # data for young adults\n",
    "    y_eeg_2 <- filter(data_EEG_2, Group==1)[, 5:dim(data_EEG_2)[2]] \n",
    "    # data for older adults\n",
    "    o_eeg_2 <- filter(data_EEG_2, Group==2)[, 5:dim(data_EEG_2)[2]] \n",
    "    \n",
    "    # multivariate distance correlation test between EEG features\n",
    "    # for young adults\n",
    "    multivar_ttest_y <- dcorT.test(y_eeg_1, y_eeg_2)\n",
    "    z_fx_dcor_test_y[i, j] <- multivar_ttest_y$estimate\n",
    "    z_pval_dcor_test_y[i, j] <- multivar_ttest_y$p.value\n",
    "    \n",
    "    # for older adults\n",
    "    multivar_ttest_o <- dcorT.test(o_eeg_1, o_eeg_2)\n",
    "    z_fx_dcor_test_o[i, j] <- multivar_ttest_o$estimate\n",
    "    z_pval_dcor_test_o[i, j] <- multivar_ttest_o$p.value    \n",
    "  }\n",
    "}"
   ]
  },
  {
   "cell_type": "code",
   "execution_count": null,
   "id": "3ab4fff4",
   "metadata": {},
   "outputs": [],
   "source": [
    "# Results for young adults\n",
    "# write csv with fx magnitude\n",
    "temp_ix <- gsub(\".csv\", \"\", temp)\n",
    "cols_fx <- data.frame()\n",
    "cols_fx <- as.data.frame(z_fx_dcor_test_y, row.names=temp_ix)\n",
    "colnames(cols_fx) <- temp_ix\n",
    "save_ <- file.path(getwd(), \"results\", \"6_correlations_references_results\", \"6_dc_fx_y.csv\")\n",
    "write.csv(cols_fx, save_)\n",
    "\n",
    "# write csv with pvalues\n",
    "cols_pval <- data.frame()\n",
    "cols_pval <- as.data.frame(z_pval_dcor_test_y, row.names=temp_ix)\n",
    "colnames(cols_pval) <- temp_ix\n",
    "save_ <- file.path(getwd(), \"results\", \"6_correlations_references_results\", \"6_dc_pval_y.csv\")\n",
    "write.csv(cols_pval, save_)\n",
    "\n",
    "\n",
    "# Results for older adults\n",
    "# write csv with fx magnitude\n",
    "cols_fx <- data.frame()\n",
    "cols_fx <- as.data.frame(z_fx_dcor_test_o, row.names=temp_ix)\n",
    "colnames(cols_fx) <- temp_ix\n",
    "save_ <- file.path(getwd(),\"results\", \"6_correlations_references_results\", \"6_dc_fx_o.csv\")\n",
    "write.csv(cols_fx, save_)\n",
    "\n",
    "# write csv with pvalues\n",
    "cols_pval <- data.frame()\n",
    "cols_pval <- as.data.frame(z_pval_dcor_test_o, row.names=temp_ix)\n",
    "colnames(cols_pval) <- temp_ix\n",
    "save_ <- file.path(getwd(), \"results\", \"6_correlations_references_results\", \"6_dc_pval_o.csv\")\n",
    "write.csv(cols_pval, save_)"
   ]
  }
 ],
 "metadata": {
  "kernelspec": {
   "display_name": "R [conda env:rstats_eeg]",
   "language": "R",
   "name": "conda-env-rstats_eeg-r"
  },
  "language_info": {
   "codemirror_mode": "r",
   "file_extension": ".r",
   "mimetype": "text/x-r-source",
   "name": "R",
   "pygments_lexer": "r",
   "version": "4.0.1"
  }
 },
 "nbformat": 4,
 "nbformat_minor": 5
}
