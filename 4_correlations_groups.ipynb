{
 "cells": [
  {
   "cell_type": "markdown",
   "metadata": {},
   "source": [
    "## 4) Correlation between EEG features showing significant group differences\n",
    "\n",
    "- The EEG features which showed at least one variable (i.e., electrode, brain region or microstate parameter) with a significant group effect were pairwise correlated\n",
    "- If more than one variable of an EEG feature was significant after correcting for multiple comparisons, the variable showing the largest effect size was selected for the correlation analysis\n",
    "\n",
    "Gordillo, da Cruz, Moreno, Garobbio, Herzog"
   ]
  },
  {
   "cell_type": "code",
   "execution_count": null,
   "metadata": {},
   "outputs": [],
   "source": [
    "import os\n",
    "from tqdm import tqdm\n",
    "import numpy as np\n",
    "import pandas as pd\n",
    "from scipy.stats import spearmanr"
   ]
  },
  {
   "cell_type": "code",
   "execution_count": null,
   "metadata": {},
   "outputs": [],
   "source": [
    "main_dir = os.getcwd()\n",
    "np.random.seed(234)"
   ]
  },
  {
   "cell_type": "code",
   "execution_count": null,
   "metadata": {},
   "outputs": [],
   "source": [
    "# define data and results directories\n",
    "data_dir = os.path.join(main_dir, 'data')\n",
    "results_dir = os.path.join(main_dir, 'results')\n",
    "os.chdir(main_dir)\n",
    "\n",
    "# eeg features\n",
    "path_eeg_csv = os.path.join(data_dir, 'csv_data')\n",
    "eeg_features = list(filter(lambda x: '.csv' in x, os.listdir(path_eeg_csv)))\n",
    "neeg = len(eeg_features)\n",
    "\n",
    "# load mwu results\n",
    "results_3_dir = os.path.join(results_dir, '3_group_comparison_results')\n",
    "data_mwu = pd.read_csv(os.path.join(results_3_dir, '3_mwu_r.csv'), index_col=0)"
   ]
  },
  {
   "cell_type": "code",
   "execution_count": null,
   "metadata": {},
   "outputs": [],
   "source": [
    "# Select the EEG features which showed a significant effect\n",
    "significant_eeg = np.where(data_mwu['pvalues'] < 0.05)[0]\n",
    "\n",
    "# concatenate features showing the biggest effect sizes\n",
    "for ifeat in range(len(significant_eeg)):\n",
    "    \n",
    "    name_feat = data_mwu.index[significant_eeg[ifeat]]\n",
    "    ch_feat = data_mwu.iloc[significant_eeg[ifeat]]['selected_ch']\n",
    "    eeg_feat = pd.read_csv(os.path.join(path_eeg_csv,name_feat), index_col=0)\n",
    "    eeg_feat = eeg_feat.iloc[:, [1,int(ch_feat + 2)]]\n",
    "    \n",
    "    if ifeat == 0:\n",
    "        local_concat = eeg_feat.copy(deep=True)\n",
    "    else:\n",
    "        eeg_feat = eeg_feat.drop(['Group'], axis=1)\n",
    "        local_concat = pd.concat([local_concat, eeg_feat], axis=1)\n",
    "        \n",
    "# group 1 data (young adults)\n",
    "y_data = local_concat.loc[local_concat['Group'] == 1]\n",
    "y_data = y_data.drop(['Group'], axis=1)\n",
    "# correlate variables\n",
    "y_correlation, y_pvalue = spearmanr(y_data)\n",
    "\n",
    "# group 2 data (older adults)\n",
    "o_data = local_concat.loc[local_concat['Group'] == 2]\n",
    "o_data = o_data.drop(['Group'], axis=1)\n",
    "# correlate variables\n",
    "o_correlation, o_pvalue = spearmanr(o_data)"
   ]
  },
  {
   "cell_type": "code",
   "execution_count": null,
   "metadata": {},
   "outputs": [],
   "source": [
    "# save_data\n",
    "results_4_dir = os.path.join(results_dir, '4_correlations_groups_results')\n",
    "eeg_feats = data_mwu.index[significant_eeg]\n",
    "save_index = [feature.replace('.csv','') for feature in eeg_feats]"
   ]
  },
  {
   "cell_type": "code",
   "execution_count": null,
   "metadata": {},
   "outputs": [],
   "source": [
    "# group 1\n",
    "# correlation values\n",
    "y_correlation_df = pd.DataFrame(data=y_correlation, index=save_index,\n",
    "                                columns=save_index)\n",
    "y_correlation_df.to_csv(os.path.join(results_4_dir, '4_correlation_eeg_y.csv'))\n",
    "\n",
    "# p values\n",
    "y_pvalue_df = pd.DataFrame(data=y_pvalue, index=save_index,\n",
    "                           columns=save_index)\n",
    "y_pvalue_df.to_csv(os.path.join(results_4_dir, '4_pvalues_eeg_y.csv'))\n",
    "\n",
    "# variables\n",
    "y_data.columns = save_index\n",
    "y_data.to_csv(os.path.join(results_4_dir, '4_variables_eeg_y.csv'))\n",
    "\n",
    "# group 2\n",
    "# correlation values\n",
    "o_correlation_df = pd.DataFrame(data=o_correlation, index=save_index,\n",
    "                                columns=save_index)\n",
    "o_correlation_df.to_csv(os.path.join(results_4_dir, '4_correlation_eeg_o.csv'))\n",
    "\n",
    "# p values\n",
    "o_pvalue_df = pd.DataFrame(data=o_pvalue, index=save_index,\n",
    "                           columns=save_index)\n",
    "o_pvalue_df.to_csv(os.path.join(results_4_dir, '4_pvalues_eeg_o.csv'))\n",
    "\n",
    "# variables\n",
    "o_data.columns = save_index\n",
    "o_data.to_csv(os.path.join(results_4_dir, '4_variables_eeg_o.csv'))"
   ]
  }
 ],
 "metadata": {
  "kernelspec": {
   "display_name": "Python [conda env:stats_eeg]",
   "language": "python",
   "name": "conda-env-stats_eeg-py"
  },
  "language_info": {
   "codemirror_mode": {
    "name": "ipython",
    "version": 3
   },
   "file_extension": ".py",
   "mimetype": "text/x-python",
   "name": "python",
   "nbconvert_exporter": "python",
   "pygments_lexer": "ipython3",
   "version": "3.9.12"
  }
 },
 "nbformat": 4,
 "nbformat_minor": 4
}
