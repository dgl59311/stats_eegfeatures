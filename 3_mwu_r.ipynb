{
 "cells": [
  {
   "cell_type": "markdown",
   "metadata": {},
   "source": [
    "## 3) Group comparison between older and younger adults\n",
    "\n",
    "- Each EEG feature is compared between younger and older adults using non-parametric Mann-Whitney tests\n",
    "- The p-values are corrected for multiple comparisons using FDR\n",
    "- Effect sizes are presented as ' r values ' obtained using the function 'wilcox_effsize' \n",
    "\n",
    "Gordillo, da Cruz, Moreno, Garobbio, Herzog"
   ]
  },
  {
   "cell_type": "code",
   "execution_count": null,
   "metadata": {},
   "outputs": [],
   "source": [
    "#rm(list=ls(all=TRUE))  # clear all variables\n",
    "# dario.gordillolopez@epfl.ch\n",
    "library('coin')\n",
    "library('rstatix')"
   ]
  },
  {
   "cell_type": "code",
   "execution_count": null,
   "metadata": {},
   "outputs": [],
   "source": [
    "# rm(list=ls(all=TRUE))  # clear all variables\n",
    "set.seed(42) # set seed for p-values using coin\n",
    "setwd(getwd())\n",
    "eeg_data_dir = file.path(getwd(),\"data\",\"csv_data\")"
   ]
  },
  {
   "cell_type": "code",
   "execution_count": null,
   "metadata": {},
   "outputs": [],
   "source": [
    "# Find EEG files in .csv \n",
    "temp <- list.files(path = eeg_data_dir ,pattern = \"*.csv\")"
   ]
  },
  {
   "cell_type": "code",
   "execution_count": null,
   "metadata": {},
   "outputs": [],
   "source": [
    "# to store data\n",
    "pvalues <- vector()\n",
    "z_stat <- vector() \n",
    "selected_ch <- vector()\n",
    "r_stat <- vector()\n",
    "rcil_stat <- vector()\n",
    "rcih_stat <- vector()"
   ]
  },
  {
   "cell_type": "code",
   "execution_count": null,
   "metadata": {},
   "outputs": [],
   "source": [
    "# mwu for each eeg feature\n",
    "for (i in 1:length(temp)){\n",
    "  # load EEG data\n",
    "  data_EEG <- read.csv(file.path(eeg_data_dir, temp[i]))\n",
    "  data_EEG$Group <- factor(data_EEG$Group)  \n",
    "  variables_EEG <- colnames(data_EEG)[5:ncol(data_EEG)]\n",
    "  # internal store\n",
    "  MAIN_p_values <- vector()\n",
    "  MAIN_z <- vector()\n",
    "  MAIN_fx_r <- vector()\n",
    "  MAIN_fx_r_cilow <- vector()\n",
    "  MAIN_fx_r_cihigh <- vector()  \n",
    "    \n",
    "  for (j in 1:length(variables_EEG)){\n",
    "    # create data frame\n",
    "    eeg_var <- data_EEG[, j+4]    \n",
    "    data_model <- data.frame(eeg_data = I(eeg_var), Group = I(data_EEG[,3]))\n",
    "    # statistical test\n",
    "    mwu_test <- coin::wilcox_test(eeg_var ~ Group, data = data_model)\n",
    "    fx_test <-  wilcox_effsize(eeg_data ~ Group, data = data_model, ci = \"TRUE\", ci.type=\"perc\")\n",
    "\n",
    "    # store results\n",
    "    MAIN_p_values[j] <- pvalue(mwu_test)\n",
    "    MAIN_z[j] <- statistic(mwu_test)\n",
    "    MAIN_fx_r[j] <- as.numeric(fx_test$effsize)\n",
    "    MAIN_fx_r_cilow[j] <- fx_test$conf.low\n",
    "    MAIN_fx_r_cihigh[j] <- fx_test$conf.high\n",
    "    \n",
    "    message('Processing variables ', j, ' of ', length(variables_EEG))\n",
    "    flush.console()\n",
    "  }\n",
    "  \n",
    "  min_p_val <- which.min(MAIN_p_values)\n",
    "  adjust_p_values <- p.adjust(MAIN_p_values, method = \"BH\")\n",
    "  \n",
    "  # all data\n",
    "  selected_ch[i] <- min_p_val\n",
    "  pvalues[i] <- adjust_p_values[min_p_val]\n",
    "  z_stat[i] <- MAIN_z[min_p_val] \n",
    "  r_stat[i] <- MAIN_fx_r[min_p_val] \n",
    "  rcil_stat[i] <- MAIN_fx_r_cilow[min_p_val] \n",
    "  rcih_stat[i] <- MAIN_fx_r_cihigh[min_p_val] \n",
    "  \n",
    "  message('Processing features ', i, ' of ', length(temp))\n",
    "}\n",
    "\n"
   ]
  },
  {
   "cell_type": "code",
   "execution_count": null,
   "metadata": {},
   "outputs": [],
   "source": [
    "cols_mwu <- cbind(selected_ch, pvalues, z_stat, r_stat, rcil_stat, rcih_stat)\n",
    "cols_mwu <- as.data.frame(cbind(temp,cols_mwu))\n",
    "colnames(cols_mwu)[which(names(cols_mwu) == \"temp\")] <- \"features\"\n",
    "save_ <- file.path(getwd(),\"results\", \"3_group_comparison_results\", \"3_mwu_r.csv\")\n",
    "write.csv(cols_mwu,save_, row.names = FALSE)"
   ]
  }
 ],
 "metadata": {
  "kernelspec": {
   "display_name": "R [conda env:rstats_eeg]",
   "language": "R",
   "name": "conda-env-rstats_eeg-r"
  },
  "language_info": {
   "codemirror_mode": "r",
   "file_extension": ".r",
   "mimetype": "text/x-r-source",
   "name": "R",
   "pygments_lexer": "r",
   "version": "4.0.1"
  }
 },
 "nbformat": 4,
 "nbformat_minor": 4
}
