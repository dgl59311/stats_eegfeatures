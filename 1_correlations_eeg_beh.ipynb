{
 "cells": [
  {
   "cell_type": "markdown",
   "metadata": {},
   "source": [
    "## 1) Correlations between EEG features and cognitive variables\n",
    "\n",
    "- Each EEG feature is correlated with each cognitive variable\n",
    "- P-values are corrected (see 'correlate_eeg_beh' function) for each pair of EEG feature and cognitive variable\n",
    "- .csv files with the results are stored  in 'results_dir' \n",
    "\n",
    "Gordillo, da Cruz, Moreno, Garobbio, Herzog"
   ]
  },
  {
   "cell_type": "code",
   "execution_count": null,
   "metadata": {},
   "outputs": [],
   "source": [
    "import os\n",
    "from tqdm import tqdm\n",
    "import numpy as np\n",
    "import pandas as pd\n",
    "from dependencies.multicorr import correlate_eeg_beh, task_eeg_variables"
   ]
  },
  {
   "cell_type": "code",
   "execution_count": null,
   "metadata": {},
   "outputs": [],
   "source": [
    "main_dir = os.getcwd()\n",
    "np.random.seed(234)"
   ]
  },
  {
   "cell_type": "code",
   "execution_count": null,
   "metadata": {},
   "outputs": [],
   "source": [
    "# define data and results directories\n",
    "data_dir = os.path.join(main_dir, 'data')\n",
    "results_dir = os.path.join(main_dir, 'results')"
   ]
  },
  {
   "cell_type": "code",
   "execution_count": null,
   "metadata": {},
   "outputs": [],
   "source": [
    "# behavior variables\n",
    "beh_vars = [\"Cvlt_attention_span\", \"Cvlt_delayed_memory\", \"Pts-2_subtest_3\",\n",
    "            \"Rwt_animal_categories\", \"Rwt_s_words\", \"Tap_alertness\",\n",
    "            \"Tap_simon_congruent\", \"Tap_simon_incongruent\", \"Tap_working_memory\",\n",
    "            \"Tmt-A\", \"Tmt-B\", \"Vocabulary_test\"]\n",
    "\n",
    "nbeh = len(beh_vars)\n",
    "\n",
    "# load behavior data\n",
    "beh_tasks = pd.read_csv(os.path.join(data_dir, 'behavior_file.csv'), index_col=0)\n",
    "\n",
    "# eeg features \n",
    "path_eeg_csv = os.path.join(data_dir, 'csv_data')\n",
    "eeg_features = list(filter(lambda x: '.csv' in x, os.listdir(path_eeg_csv)))\n",
    "neeg = len(eeg_features)\n",
    "print('Number of EEG features to analyze:  ', neeg)\n",
    "print('Number of EEG features to analyze:  ', len(beh_vars))"
   ]
  },
  {
   "cell_type": "code",
   "execution_count": null,
   "metadata": {},
   "outputs": [],
   "source": [
    "# allocate memory \n",
    "# data spearman\n",
    "spearman_max_correlation = np.zeros((neeg, nbeh))\n",
    "spearman_MASK = np.zeros(((neeg, nbeh))).astype(object)\n",
    "spearman_n_significant = np.zeros(((neeg, nbeh)))\n",
    "spearman_nan_out = np.zeros(((neeg, nbeh)))\n",
    "\n",
    "# data distance correlations\n",
    "distcorr_max_correlation = np.zeros(((neeg, nbeh)))\n",
    "distcorr_MASK = np.zeros(((neeg, nbeh))).astype(object)\n",
    "distcorr_n_significant= np.zeros(((neeg, nbeh)))\n",
    "distcorr_nan_out = np.zeros(((neeg, nbeh)))"
   ]
  },
  {
   "cell_type": "code",
   "execution_count": null,
   "metadata": {},
   "outputs": [],
   "source": [
    "# stores data for young 'y' or older 'o' adults\n",
    "idgroup = 'y'"
   ]
  },
  {
   "cell_type": "code",
   "execution_count": null,
   "metadata": {},
   "outputs": [],
   "source": [
    "dataeeg = pd.read_csv(os.path.join(path_eeg_csv, 'node str e-icoh theta.csv'), index_col=0)\n",
    "task = 'Tap_simon_congruent'\n",
    "maxcorr, maxcorr_var, n_sig_eegvars, nanout =  correlate_eeg_beh(dataeeg, beh_tasks, \n",
    "                                                                          behvar=task, \n",
    "                                                                          metric='distcorr', \n",
    "                                                                          group=idgroup)\n",
    "print(n_sig_eegvars)"
   ]
  },
  {
   "cell_type": "code",
   "execution_count": null,
   "metadata": {
    "scrolled": true
   },
   "outputs": [],
   "source": [
    "for ieeg in tqdm(range(neeg)):\n",
    "    dataeeg = pd.read_csv(os.path.join(path_eeg_csv, eeg_features[ieeg]), index_col=0)\n",
    "    for itask in range(nbeh):\n",
    "        task = beh_vars[itask]\n",
    "        # correlate each electrode with the cognitive variable and correct for multiple comparisons\n",
    "        # run using spearman correlation\n",
    "        maxcorr, maxcorr_var, n_sig_eegvars, nanout =  correlate_eeg_beh(dataeeg, beh_tasks, \n",
    "                                                                         behvar=task, \n",
    "                                                                         metric='spearman', \n",
    "                                                                         group=idgroup)\n",
    "        # save data spearman\n",
    "        spearman_max_correlation[ieeg, itask] = maxcorr\n",
    "        spearman_MASK[ieeg, itask] = maxcorr_var\n",
    "        spearman_n_significant[ieeg, itask] = n_sig_eegvars\n",
    "        spearman_nan_out[ieeg, itask] = nanout\n",
    "\n",
    "        # run using distance correlation\n",
    "        maxcorr, maxcorr_var, n_sig_eegvars, nanout =  correlate_eeg_beh(dataeeg, beh_tasks, \n",
    "                                                                          behvar=task, \n",
    "                                                                          metric='distcorr', \n",
    "                                                                          group=idgroup)\n",
    "        # save data distancecorr\n",
    "        distcorr_max_correlation[ieeg, itask] = maxcorr\n",
    "        distcorr_MASK[ieeg, itask] = maxcorr_var\n",
    "        distcorr_n_significant[ieeg, itask] = n_sig_eegvars\n",
    "        distcorr_nan_out[ieeg, itask] = nanout"
   ]
  },
  {
   "cell_type": "code",
   "execution_count": null,
   "metadata": {},
   "outputs": [],
   "source": [
    "# save data\n",
    "results_1_dir = os.path.join(results_dir, '1_correlations_eeg_beh_results')\n",
    "save_index = [feature.replace('.csv','') for feature in eeg_features]"
   ]
  },
  {
   "cell_type": "code",
   "execution_count": null,
   "metadata": {},
   "outputs": [],
   "source": [
    "# spearman max corr\n",
    "maxcorrvals_spearman = pd.DataFrame(data=spearman_max_correlation, index=save_index, columns=beh_vars)\n",
    "maxcorrvals_spearman.to_csv(os.path.join(results_1_dir, '1_maxcorrvals_spearman_' + idgroup + '.csv'))\n",
    "# spearman MASK\n",
    "mask_spearman = pd.DataFrame(data=spearman_MASK, index=save_index, columns=beh_vars)\n",
    "mask_spearman.to_csv(os.path.join(results_1_dir,'1_mask_spearman_' + idgroup + '.csv'))\n",
    "# spearman number of significant variables \n",
    "nsignificant_spearman = pd.DataFrame(data=spearman_n_significant, index=save_index, columns=beh_vars)\n",
    "nsignificant_spearman.to_csv(os.path.join(results_1_dir, '1_nsignificant_spearman_' + idgroup + '.csv'))\n",
    "# spearman number of significant variables \n",
    "nanout_spearman = pd.DataFrame(data=spearman_nan_out, index=save_index, columns=beh_vars)\n",
    "nanout_spearman.to_csv(os.path.join(results_1_dir, '1_nanout_spearman_' + idgroup + '.csv'))"
   ]
  },
  {
   "cell_type": "code",
   "execution_count": null,
   "metadata": {},
   "outputs": [],
   "source": [
    "# distance correlation\n",
    "# distcorr max corr\n",
    "maxcorrvals_distcorr = pd.DataFrame(data=distcorr_max_correlation, index=save_index, columns=beh_vars)\n",
    "maxcorrvals_distcorr.to_csv(os.path.join(results_1_dir, '1_maxcorrvals_distcorr_' + idgroup + '.csv'))\n",
    "# distcorr MASK\n",
    "mask_distcorr = pd.DataFrame(data=distcorr_MASK, index=save_index, columns=beh_vars)\n",
    "mask_distcorr.to_csv(os.path.join(results_1_dir, '1_mask_distcorr_' + idgroup + '.csv'))\n",
    "# distcorr number of significant variables \n",
    "nsignificant_distcorr = pd.DataFrame(data=distcorr_n_significant, index=save_index, columns=beh_vars)\n",
    "nsignificant_distcorr.to_csv(os.path.join(results_1_dir, '1_nsignificant_distcorr_' + idgroup + '.csv'))\n",
    "# distcorr number of significant variables \n",
    "nanout_distcorr = pd.DataFrame(data=distcorr_nan_out, index=save_index, columns=beh_vars)\n",
    "nanout_distcorr.to_csv(os.path.join(results_1_dir,'1_nanout_distcorr_' + idgroup + '.csv'))"
   ]
  },
  {
   "cell_type": "code",
   "execution_count": null,
   "metadata": {},
   "outputs": [],
   "source": [
    "# Within task correlations\n",
    "# create dataframes of cognitive variables linked to the same task and correlate the variables\n",
    "for itask in tqdm(range(nbeh)): \n",
    "    \n",
    "    task = beh_vars[itask]\n",
    "    \n",
    "    # analyze using spearman correlation\n",
    "    within_taskeeg, magnitude_corr, pvalue_corr, metric = task_eeg_variables(results_1_dir, path_eeg_csv, beh_tasks, \n",
    "                                                                             behvar=task, \n",
    "                                                                             group=idgroup, \n",
    "                                                                             metric='spearman')\n",
    "    if len(within_taskeeg) > 0:\n",
    "        # save df with variables \n",
    "        within_taskeeg.columns = list([task]) + list(magnitude_corr.index)\n",
    "        within_taskeeg.to_csv(os.path.join(results_1_dir,\n",
    "                                           '1_variables_eeg_' + task + '_' + metric + '_' + idgroup + '.csv'))\n",
    "        # save df with correlations between EEG features\n",
    "        magnitude_corr.to_csv(os.path.join(results_1_dir,\n",
    "                                           '1_correlations_eeg_' + task + '_' + metric + '_' + idgroup + '.csv'))\n",
    "        # save df with pvals between EEG features\n",
    "        pvalue_corr.to_csv(os.path.join(results_1_dir,\n",
    "                                           '1_pvals_eeg_' + task + '_' + metric + '_' + idgroup + '.csv'))\n",
    "        \n",
    "    # analyze using distance correlations\n",
    "    \n",
    "    within_taskeeg, magnitude_corr, pvalue_corr, metric = task_eeg_variables(results_1_dir, path_eeg_csv, beh_tasks, \n",
    "                                                                             behvar=task, \n",
    "                                                                             group=idgroup, \n",
    "                                                                             metric='distcorr')\n",
    "    if len(within_taskeeg) > 0:\n",
    "        # save df with variables \n",
    "        within_taskeeg.columns = list([task]) + list(magnitude_corr.index)\n",
    "        within_taskeeg.to_csv(os.path.join(results_1_dir,\n",
    "                                           '1_variables_eeg_' + task + '_' + metric + '_' + idgroup + '.csv'))\n",
    "        # save df with correlations between EEG features\n",
    "        magnitude_corr.to_csv(os.path.join(results_1_dir,\n",
    "                                           '1_correlations_eeg_' + task + '_' + metric + '_' + idgroup + '.csv'))\n",
    "        # save df with pvals between EEG features\n",
    "        pvalue_corr.to_csv(os.path.join(results_1_dir,\n",
    "                                           '1_pvals_eeg_' + task + '_' + metric + '_' + idgroup + '.csv'))\n",
    "    "
   ]
  }
 ],
 "metadata": {
  "kernelspec": {
   "display_name": "Python [conda env:stats_eeg]",
   "language": "python",
   "name": "conda-env-stats_eeg-py"
  },
  "language_info": {
   "codemirror_mode": {
    "name": "ipython",
    "version": 3
   },
   "file_extension": ".py",
   "mimetype": "text/x-python",
   "name": "python",
   "nbconvert_exporter": "python",
   "pygments_lexer": "ipython3",
   "version": "3.9.12"
  }
 },
 "nbformat": 4,
 "nbformat_minor": 4
}
