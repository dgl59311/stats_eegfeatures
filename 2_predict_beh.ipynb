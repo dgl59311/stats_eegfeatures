{
 "cells": [
  {
   "cell_type": "markdown",
   "metadata": {},
   "source": [
    "## 2) Prediction of cognitive variables with EEG features\n",
    "\n",
    "\n",
    "- Ridge and random forest regression models are generated using one EEG feature and one cognitive variable (i.e., 175 * 12 models)\n",
    "- We use repeated train-test split with cross-validation (50 repetitions)\n",
    "- Out-of-sample prediction scores are calculated using r-squared and RMSE \n",
    "- Results are stored in .pkl files in 'results_dir'\n",
    "\n",
    "Gordillo, da Cruz, Moreno, Garobbio, Herzog"
   ]
  },
  {
   "cell_type": "code",
   "execution_count": null,
   "metadata": {},
   "outputs": [],
   "source": [
    "import os\n",
    "import pickle\n",
    "from tqdm import tqdm\n",
    "import pandas as pd\n",
    "import numpy as np\n",
    "from sklearnex import patch_sklearn\n",
    "patch_sklearn()\n",
    "from sklearn.model_selection import ShuffleSplit, GridSearchCV\n",
    "from sklearn.ensemble import RandomForestRegressor\n",
    "from sklearn.metrics import r2_score, mean_squared_error\n",
    "from sklearn.pipeline import Pipeline\n",
    "from sklearn.preprocessing import PowerTransformer\n",
    "from sklearn.feature_selection import VarianceThreshold\n",
    "from sklearn.base import clone\n",
    "from sklearn.linear_model import RidgeCV\n",
    "from dependencies.multicorr import match_et_merge, id_group_match"
   ]
  },
  {
   "cell_type": "code",
   "execution_count": null,
   "metadata": {},
   "outputs": [],
   "source": [
    "# main directory\n",
    "main_dir = os.getcwd()"
   ]
  },
  {
   "cell_type": "code",
   "execution_count": null,
   "metadata": {},
   "outputs": [],
   "source": [
    "# define data and results directories\n",
    "data_dir = os.path.join(main_dir, 'data')\n",
    "results_dir = os.path.join(main_dir, 'results')\n",
    "os.chdir(main_dir)"
   ]
  },
  {
   "cell_type": "code",
   "execution_count": null,
   "metadata": {},
   "outputs": [],
   "source": [
    "# load behavior variables\n",
    "beh_vars = [\"Cvlt_attention_span\", \"Cvlt_delayed_memory\", \"Pts-2_subtest_3\",\n",
    "            \"Rwt_animal_categories\", \"Rwt_s_words\", \"Tap_alertness\",\n",
    "            \"Tap_simon_congruent\", \"Tap_simon_incongruent\", \"Tap_working_memory\",\n",
    "            \"Tmt-A\", \"Tmt-B\", \"Vocabulary_test\"]\n",
    "# cognitive variables\n",
    "nbeh = len(beh_vars)\n",
    "beh_tasks = pd.read_csv(os.path.join(data_dir, 'behavior_file.csv'), index_col=0)\n",
    "# eeg features \n",
    "path_eeg_csv = os.path.join(data_dir, 'csv_data')\n",
    "eeg_features = list(filter(lambda x: '.csv' in x, os.listdir(path_eeg_csv)))\n",
    "neeg = len(eeg_features)\n",
    "neeg"
   ]
  },
  {
   "cell_type": "code",
   "execution_count": null,
   "metadata": {},
   "outputs": [],
   "source": [
    "# Regression models\n",
    "\n",
    "# Ridge model\n",
    "# Variables with zero variance are removed, and each variable is power transformed to improve normality\n",
    "ridge_model = Pipeline(steps = [('variance', VarianceThreshold()),\n",
    "                                ('transform', PowerTransformer()),\n",
    "                                ('ridge', RidgeCV(alphas=np.logspace(-3,5,100)))])\n",
    "\n",
    "# Random forest model\n",
    "max_depth = [4, 6, 8, None]\n",
    "max_features = ['log2', 'sqrt', 'auto']\n",
    "search_grid = {'rf__max_features' : max_features,\n",
    "               'rf__max_depth' :    max_depth}\n",
    "\n",
    "pipe_rf = Pipeline(steps = [('variance', VarianceThreshold()),\n",
    "                            ('rf', RandomForestRegressor(n_estimators=100, random_state=234))])\n",
    "\n",
    "# Random forest models are cross-validated using Grid Search and 3-fold cv\n",
    "rf_model = GridSearchCV(pipe_rf, param_grid=search_grid, cv=3, scoring='neg_mean_absolute_error', verbose=0, n_jobs = -1)"
   ]
  },
  {
   "cell_type": "code",
   "execution_count": null,
   "metadata": {},
   "outputs": [],
   "source": [
    "# The entire procedure is repeated 'repeat_n' times\n",
    "repeat_n = 50\n",
    "\n",
    "# 'o' = does the analysis for older adults. 'y'= does the analysis for younger adults\n",
    "idgroup = 'y'\n",
    "\n",
    "# define random split function\n",
    "random_sp = ShuffleSplit(n_splits=repeat_n, test_size=0.33,random_state=234)"
   ]
  },
  {
   "cell_type": "code",
   "execution_count": null,
   "metadata": {},
   "outputs": [],
   "source": [
    "# allocate memory\n",
    "ridge_r2_train = np.zeros((repeat_n, neeg, nbeh))\n",
    "ridge_r2_test = np.zeros((repeat_n, neeg, nbeh))\n",
    "ridge_rmse_train = np.zeros((repeat_n, neeg, nbeh))\n",
    "ridge_rmse_test = np.zeros((repeat_n, neeg, nbeh))\n",
    "\n",
    "rf_r2_train = np.zeros((repeat_n, neeg, nbeh))\n",
    "rf_r2_test = np.zeros((repeat_n, neeg, nbeh))\n",
    "rf_rmse_train = np.zeros((repeat_n, neeg, nbeh))\n",
    "rf_rmse_test = np.zeros((repeat_n, neeg, nbeh))"
   ]
  },
  {
   "cell_type": "code",
   "execution_count": null,
   "metadata": {
    "scrolled": true
   },
   "outputs": [],
   "source": [
    "for ieeg in tqdm(range(neeg)): \n",
    "    \n",
    "    dataeeg = pd.read_csv(os.path.join(path_eeg_csv,eeg_features[ieeg]), index_col=0)\n",
    "    \n",
    "    for itask in range(nbeh):\n",
    "        \n",
    "        task = beh_vars[itask]\n",
    "        group_data_beh = beh_tasks.loc[beh_tasks['Group'] == id_group_match(idgroup),[task]]\n",
    "        matched_data, nanout = match_et_merge(group_data_beh, dataeeg)\n",
    "        # matched data to fit\n",
    "        eeg = matched_data.drop(['Group', 'Gender', 'Age', task], axis=1)\n",
    "        beh = matched_data[task]        \n",
    "        c_s = 0\n",
    "        \n",
    "        # Split data intro train-test\n",
    "        for train_index, test_index in random_sp.split(eeg):\n",
    "            \n",
    "            eeg_train = eeg.values[train_index, :]\n",
    "            beh_train = beh.values[train_index]\n",
    "            eeg_test = eeg.values[test_index, :]\n",
    "            beh_test = beh.values[test_index]\n",
    "           \n",
    "            # fit Ridge model on train data with cross-validation\n",
    "            internal_ridge = clone(ridge_model)\n",
    "            fit_ridge = internal_ridge.fit(eeg_train, beh_train)\n",
    "            # predict test data\n",
    "            predict_train = fit_ridge.predict(eeg_train)\n",
    "            predict_test = fit_ridge.predict(eeg_test)\n",
    "            # save performance\n",
    "            ridge_r2_train[c_s, ieeg, itask] = r2_score(beh_train, predict_train)\n",
    "            ridge_r2_test[c_s, ieeg, itask] = r2_score(beh_test, predict_test)\n",
    "            ridge_rmse_train[c_s, ieeg, itask] = mean_squared_error(beh_train, predict_train, squared=False)\n",
    "            ridge_rmse_test[c_s, ieeg, itask] = mean_squared_error(beh_test, predict_test, squared=False)\n",
    "            \n",
    "            # fit RF model on train data with cross-validation\n",
    "            internal_rf = clone(rf_model)\n",
    "            fit_rf = internal_rf.fit(eeg_train, beh_train)\n",
    "            # predict test data\n",
    "            predict_train = fit_rf.predict(eeg_train)\n",
    "            predict_test = fit_rf.predict(eeg_test)\n",
    "            # save performance\n",
    "            rf_r2_train[c_s, ieeg, itask] = r2_score(beh_train, predict_train)\n",
    "            rf_r2_test[c_s, ieeg, itask] = r2_score(beh_test, predict_test)\n",
    "            rf_rmse_train[c_s, ieeg, itask] = mean_squared_error(beh_train, predict_train, squared=False)\n",
    "            rf_rmse_test[c_s, ieeg, itask] = mean_squared_error(beh_test, predict_test, squared=False)\n",
    "            \n",
    "            c_s = c_s + 1\n",
    "        \n",
    "        task = []\n",
    "    dataeeg = []"
   ]
  },
  {
   "cell_type": "code",
   "execution_count": null,
   "metadata": {},
   "outputs": [],
   "source": [
    "# save data in pickle\n",
    "results_2_dir = os.path.join(results_dir, '2_regression_results')\n",
    "\n",
    "results_reg = {\"eeg features\": eeg_features,\n",
    "               \"tasks\": beh_vars,\n",
    "               \"ridge_r2_train\": ridge_r2_train,\n",
    "               \"ridge_r2_test\": ridge_r2_test,\n",
    "               \"ridge_rmse_train\": ridge_rmse_train,\n",
    "               \"ridge_rmse_test\": ridge_rmse_test,\n",
    "               \"rf_r2_train\": rf_r2_train,\n",
    "               \"rf_r2_test\": rf_r2_test,\n",
    "               \"rf_rmse_train\": rf_rmse_train,\n",
    "               \"rf_rmse_test\": rf_rmse_test}\n",
    "\n",
    "pklfile_name = '2_regression_' + idgroup + '.pkl'\n",
    "with open(os.path.join(results_2_dir, pklfile_name), \"wb\") as f:\n",
    "    pickle.dump(results_reg, f)"
   ]
  },
  {
   "cell_type": "markdown",
   "metadata": {},
   "source": []
  }
 ],
 "metadata": {
  "kernelspec": {
   "display_name": "Python [conda env:stats_eeg]",
   "language": "python",
   "name": "conda-env-stats_eeg-py"
  },
  "language_info": {
   "codemirror_mode": {
    "name": "ipython",
    "version": 3
   },
   "file_extension": ".py",
   "mimetype": "text/x-python",
   "name": "python",
   "nbconvert_exporter": "python",
   "pygments_lexer": "ipython3",
   "version": "3.9.12"
  }
 },
 "nbformat": 4,
 "nbformat_minor": 4
}
